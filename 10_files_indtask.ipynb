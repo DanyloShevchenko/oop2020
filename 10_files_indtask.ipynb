{
 "cells": [
  {
   "cell_type": "markdown",
   "metadata": {},
   "source": [
    "## Індивідуальне завдання №1 \n",
    "\n",
    "З початку практичного заняття надіслати до чату **склад команди** і її **назву**\n",
    "\n",
    "Перед захистом індивідуальних завдань надати до чату посилання на свій github дисципліни ООП "
   ]
  },
  {
   "cell_type": "markdown",
   "metadata": {},
   "source": [
    "## Індивідуальне завдання №2"
   ]
  },
  {
   "cell_type": "markdown",
   "metadata": {},
   "source": [
    "1.**За допомогою конструктору класу**, створити клас (будь-якої предметної галузі) з 3-ма атибутами і 3-ма методами, що можуть змінювати їх значення. \n",
    "2. Створити 3 екземпляри класу. \n",
    "3. Роздрукувати властивості всіх екзмемплярів. \n",
    "4. У 1-му екземплярі змінити 1-е значення атирибуту базового класу \n",
    "5. У 2-му екземплярі змінити 2-е значення атирибуту базового класу\n",
    "6. У 3-му екземплярі змінити 3-е значення атирибуту базового класу\n",
    "7. Роздрукувати всі значення атирибутів всіх екземплярів \n",
    "8. Провести інтерпретацію. \n",
    "  "
   ]
  },
  {
   "cell_type": "code",
   "execution_count": 1,
   "metadata": {},
   "outputs": [
    {
     "name": "stdout",
     "output_type": "stream",
     "text": [
      "car1 101 color1\n",
      "car2 102 color2\n",
      "car3 103 color3\n",
      "Tesla model x\n",
      "200\n",
      "White\n"
     ]
    }
   ],
   "source": [
    "class Car:\n",
    "    def __init__(self, name, speed, color):\n",
    "        self.name = name\n",
    "        self.speed = speed\n",
    "        self.color = color\n",
    "        \n",
    "    def setName(self, name):\n",
    "        self.name = name\n",
    "        \n",
    "    def setSpeed(self, speed):\n",
    "        self.speed = speed\n",
    "        \n",
    "    def setColor(self, color):\n",
    "        self.color = color\n",
    "    \n",
    "    def printData(self):\n",
    "        print(self.name, self.speed, self.color)\n",
    "        \n",
    "car1 = Car(\"car1\", 101, \"color1\")\n",
    "car2 = Car(\"car2\", 102, \"color2\")\n",
    "car3 = Car(\"car3\", 103, \"color3\")\n",
    "\n",
    "car1.printData()\n",
    "car2.printData()\n",
    "car3.printData()\n",
    "\n",
    "car1.setName(\"Tesla model x\")\n",
    "car2.setSpeed(200)\n",
    "car3.setColor(\"White\")\n",
    "\n",
    "print(car1.name)\n",
    "print(car2.speed)\n",
    "print(car3.color)"
   ]
  },
  {
   "cell_type": "markdown",
   "metadata": {},
   "source": [
    "## Індивідуальне завдання №3"
   ]
  },
  {
   "cell_type": "markdown",
   "metadata": {},
   "source": [
    "1.**Без конструктору класу**, створити клас (будь-якої предметної галузі) з 3-ма атибутами і 3-ма методами, що можуть змінювати їх значення. \n",
    "2. Створити 3 екземпляри класу. \n",
    "3. Роздрукувати властивості всіх екзмемплярів. \n",
    "4. У 1-му екземплярі змінити 1-е значення атирибуту базового класу \n",
    "5. У 2-му екземплярі змінити 2-е значення атирибуту базового класу\n",
    "6. У 3-му екземплярі змінити 3-е значення атирибуту базового класу\n",
    "7. Роздрукувати всі значення атирибутів всіх екземплярів \n",
    "8. Провести інтерпретацію. "
   ]
  },
  {
   "cell_type": "code",
   "execution_count": 2,
   "metadata": {},
   "outputs": [
    {
     "name": "stdout",
     "output_type": "stream",
     "text": [
      "car 100 color\n",
      "car 100 color\n",
      "car 100 color\n",
      "Tesla model x\n",
      "200\n",
      "White\n"
     ]
    }
   ],
   "source": [
    "class Car:\n",
    "    name = \"car\"\n",
    "    speed = 100\n",
    "    color = \"color\"\n",
    "        \n",
    "    def setName(self, name):\n",
    "        self.name = name\n",
    "        \n",
    "    def setSpeed(self, speed):\n",
    "        self.speed = speed\n",
    "        \n",
    "    def setColor(self, color):\n",
    "        self.color = color\n",
    "    \n",
    "    def printData(self):\n",
    "        print(self.name, self.speed, self.color)\n",
    "        \n",
    "car1 = Car()\n",
    "car2 = Car()\n",
    "car3 = Car()\n",
    "\n",
    "car1.printData()\n",
    "car2.printData()\n",
    "car3.printData()\n",
    "\n",
    "car1.setName(\"Tesla model x\")\n",
    "car2.setSpeed(200)\n",
    "car3.setColor(\"White\")\n",
    "\n",
    "print(car1.name)\n",
    "print(car2.speed)\n",
    "print(car3.color)"
   ]
  },
  {
   "cell_type": "markdown",
   "metadata": {},
   "source": [
    "## Індивідуальне завдання №4"
   ]
  },
  {
   "cell_type": "markdown",
   "metadata": {},
   "source": [
    "1.Cтворити програму, яка визначає наявність товарів на складі, що характризуютьс наступними характристиками (атрибути класу): назва товару, тип товару, код товару, кількість. Зберігання товарів здійснюється у залежності від коду товару: 1 - промисловий склад, 2 - склад харчових продуктів, 3 - склад хімічних речовин, 4 - Оптовий склад, 5 - резервний склад      \n",
    "2. Представити постачання 5 різних товарів на склади (створити 5 екземплярів класу) різного типу.\n",
    "3. Застосувати метод зміни кількості товарів на складі\n",
    "4. Роздрукувати залишки на складі \n",
    "5. Провести інтерпретацію. "
   ]
  },
  {
   "cell_type": "code",
   "execution_count": 3,
   "metadata": {},
   "outputs": [
    {
     "name": "stdout",
     "output_type": "stream",
     "text": [
      "yes\n",
      "17\n"
     ]
    }
   ],
   "source": [
    "class Storage:\n",
    "    def __init__(self, name, kind, code, amount, dataArray):\n",
    "        self.name = name\n",
    "        self.kind = kind\n",
    "        self.code = code\n",
    "        self.amount = amount\n",
    "        self.dataArray = dataArray\n",
    "        \n",
    "    def searchProduct(self, item):\n",
    "        if item in self.dataArray:\n",
    "            print(\"yes\")\n",
    "        else:\n",
    "            print(\"no\")\n",
    "    \n",
    "    def addAmount(self, x):\n",
    "        self.amount += x\n",
    "    \n",
    "    def subtractAmount(self, x):\n",
    "        self.amount -= x\n",
    "\n",
    "    def printAmount(self):\n",
    "        print(self.amount)\n",
    "\n",
    "st1 = Storage(\"s1\", \"industrial\", 1, 10, [\"paint\", \"brick\", \"wallpaper\"])\n",
    "st2 = Storage(\"s2\", \"food\", 2, 10, [])\n",
    "st3 = Storage(\"s3\", \"chemicals\", 3, 10, [])\n",
    "st4 = Storage(\"s4\", \"wholesale\", 4, 10, [])\n",
    "st5 = Storage(\"s5\", \"reserve\", 5, 10, [])\n",
    "\n",
    "st1.addAmount(7)\n",
    "st1.searchProduct(\"paint\")\n",
    "st1.printAmount()\n"
   ]
  },
  {
   "cell_type": "markdown",
   "metadata": {},
   "source": [
    "## Індивідуальне завдання №5\n",
    "\n",
    "Використовуючи композицію\n",
    "1. Модифікувати програму надану в лекці: \n",
    "        - створити клас фарбування підлоги (колір на вибір);\n",
    "        - створити клас фарбування стелі (білий колір), враховуючи квадратну люстру розміром 1м*1м, \n",
    "          яку не потрібно фарбувати;\n",
    "        - врахувати 2 дверей і 3 вікна;\n",
    "        - вивести площу фарбування: підлоги, стелі, стін \n",
    "2. Провести інтерпретацію"
   ]
  },
  {
   "cell_type": "code",
   "execution_count": 11,
   "metadata": {},
   "outputs": [
    {
     "name": "stdout",
     "output_type": "stream",
     "text": [
      "Площа стін кімнати дорівнює:   160  кв.м\n",
      "Пофарбована площа стін дорвнює:  153.5  кв.м\n",
      "Площа дверей дорівнює:  2\n",
      "Площа вікон дорівнює:  4.5\n",
      "Пофарбована площа підлоги в  чорний  дорвнює:  400  кв.м\n",
      "Пофарбована площа стелі в  білий  дорвнює:  399  кв.м\n"
     ]
    }
   ],
   "source": [
    "# Композиція: фарбування стін кімнати (без вікон і дверей) \n",
    "\n",
    "class Room:\n",
    "    def __init__(self,x,y,z):\n",
    "        self.x = x \n",
    "        self.y = y\n",
    "        self.z = z\n",
    "        self.square = 2 * z * (x + y)\n",
    "        \n",
    "    def win_door(self, d,e, f,g, m=1,n=1):\n",
    "        self.window = Win_Door(d,e)\n",
    "        self.door = Win_Door(f,g)\n",
    "        self.numb_w = m\n",
    "        self.numb_d = n\n",
    "        \n",
    "    def wallpainting(self):\n",
    "        self.wallpainting = self.square - \\\n",
    "            self.window.square * self.numb_w \\\n",
    "            - self.door.square * self.numb_d\n",
    "        \n",
    "    def floorPainting(self, color):\n",
    "        self.floorPainting = Floor(self.x, self.y, color)\n",
    "        \n",
    "    def ceilingPainting(self, color = \"білий\"):\n",
    "        self.ceilingPainting = Сeiling(self.x, self.y, color)\n",
    "        self.ceilingPainting.square -= 1 \n",
    "        \n",
    "    def printer(self):\n",
    "        print (\"Площа стін кімнати дорівнює:  \", self.square, \" кв.м\"),\n",
    "        print (\"Пофарбована площа стін дорвнює: \", self.wallpainting, \" кв.м\"),\n",
    "        print(\"Площа дверей дорівнює: \", self.door.square * self.numb_d),\n",
    "        print(\"Площа вікон дорівнює: \", self.window.square * self.numb_w),\n",
    "        print(\"Пофарбована площа підлоги в \", self.floorPainting.color, \" дорвнює: \", self.floorPainting.square, \" кв.м\"),\n",
    "        print(\"Пофарбована площа стелі в \", self.ceilingPainting.color, \" дорвнює: \", self.ceilingPainting.square, \" кв.м\"),\n",
    "\n",
    "class Win_Door:\n",
    "    def __init__(self,x,y):\n",
    "        self.square = x * y\n",
    "\n",
    "class Floor:\n",
    "    def __init__(self, width, length, color):\n",
    "        self.square = width * length\n",
    "        self.color = color\n",
    "        \n",
    "class Сeiling:\n",
    "    def __init__(self, width, length, color):\n",
    "        self.square = width * length\n",
    "        self.color = color\n",
    "    \n",
    "\n",
    "        \n",
    "# створення об'єкту класу Room \n",
    "Class_Room = Room(20, 20, 2)\n",
    "\n",
    "# створення вікон і дверей\n",
    "Class_Room.win_door(1.5,1.5, 2,1, 2)\n",
    "\n",
    "# Пофарбовані кв. метри\n",
    "Class_Room.wallpainting()\n",
    "\n",
    "Class_Room.floorPainting(\"чорний\")\n",
    "\n",
    "Class_Room.ceilingPainting()\n",
    "\n",
    "# вивід\n",
    "Class_Room.printer()\n"
   ]
  },
  {
   "cell_type": "code",
   "execution_count": null,
   "metadata": {},
   "outputs": [],
   "source": []
  }
 ],
 "metadata": {
  "kernelspec": {
   "display_name": "conda_python3",
   "language": "python",
   "name": "conda_python3"
  },
  "language_info": {
   "codemirror_mode": {
    "name": "ipython",
    "version": 3
   },
   "file_extension": ".py",
   "mimetype": "text/x-python",
   "name": "python",
   "nbconvert_exporter": "python",
   "pygments_lexer": "ipython3",
   "version": "3.6.10"
  }
 },
 "nbformat": 4,
 "nbformat_minor": 4
}
